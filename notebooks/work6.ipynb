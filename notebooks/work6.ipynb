{
 "cells": [
  {
   "cell_type": "markdown",
   "source": [
    "# Практическая работа №6\n",
    "## Тема: Кластеризация\n",
    "Выполнила Фонград Анастасия КИ21-16/1б"
   ],
   "metadata": {
    "collapsed": false,
    "pycharm": {
     "name": "#%% md\n"
    }
   }
  },
  {
   "cell_type": "code",
   "execution_count": 45,
   "outputs": [],
   "source": [
    "import warnings\n",
    "import pandas as pd\n",
    "from sklearn.preprocessing import MinMaxScaler\n",
    "from sklearn.preprocessing import LabelEncoder\n",
    "\n",
    "warnings.filterwarnings('ignore')"
   ],
   "metadata": {
    "collapsed": false,
    "pycharm": {
     "name": "#%%\n"
    }
   }
  },
  {
   "cell_type": "markdown",
   "source": [
    "Возьмём данные о покупателях одного из магазинов"
   ],
   "metadata": {
    "collapsed": false,
    "pycharm": {
     "name": "#%% md\n"
    }
   }
  },
  {
   "cell_type": "code",
   "execution_count": 46,
   "outputs": [
    {
     "name": "stdout",
     "output_type": "stream",
     "text": [
      "Number of datapoints: 2240\n"
     ]
    },
    {
     "data": {
      "text/plain": "     ID  Year_Birth   Education Marital_Status   Income  Kidhome  Teenhome  \\\n0  5524        1957  Graduation         Single  58138.0        0         0   \n1  2174        1954  Graduation         Single  46344.0        1         1   \n2  4141        1965  Graduation       Together  71613.0        0         0   \n3  6182        1984  Graduation       Together  26646.0        1         0   \n4  5324        1981         PhD        Married  58293.0        1         0   \n\n  Dt_Customer  Recency  MntWines  ...  NumWebVisitsMonth  AcceptedCmp3  \\\n0  04-09-2012       58       635  ...                  7             0   \n1  08-03-2014       38        11  ...                  5             0   \n2  21-08-2013       26       426  ...                  4             0   \n3  10-02-2014       26        11  ...                  6             0   \n4  19-01-2014       94       173  ...                  5             0   \n\n   AcceptedCmp4  AcceptedCmp5  AcceptedCmp1  AcceptedCmp2  Complain  \\\n0             0             0             0             0         0   \n1             0             0             0             0         0   \n2             0             0             0             0         0   \n3             0             0             0             0         0   \n4             0             0             0             0         0   \n\n   Z_CostContact  Z_Revenue  Response  \n0              3         11         1  \n1              3         11         0  \n2              3         11         0  \n3              3         11         0  \n4              3         11         0  \n\n[5 rows x 29 columns]",
      "text/html": "<div>\n<style scoped>\n    .dataframe tbody tr th:only-of-type {\n        vertical-align: middle;\n    }\n\n    .dataframe tbody tr th {\n        vertical-align: top;\n    }\n\n    .dataframe thead th {\n        text-align: right;\n    }\n</style>\n<table border=\"1\" class=\"dataframe\">\n  <thead>\n    <tr style=\"text-align: right;\">\n      <th></th>\n      <th>ID</th>\n      <th>Year_Birth</th>\n      <th>Education</th>\n      <th>Marital_Status</th>\n      <th>Income</th>\n      <th>Kidhome</th>\n      <th>Teenhome</th>\n      <th>Dt_Customer</th>\n      <th>Recency</th>\n      <th>MntWines</th>\n      <th>...</th>\n      <th>NumWebVisitsMonth</th>\n      <th>AcceptedCmp3</th>\n      <th>AcceptedCmp4</th>\n      <th>AcceptedCmp5</th>\n      <th>AcceptedCmp1</th>\n      <th>AcceptedCmp2</th>\n      <th>Complain</th>\n      <th>Z_CostContact</th>\n      <th>Z_Revenue</th>\n      <th>Response</th>\n    </tr>\n  </thead>\n  <tbody>\n    <tr>\n      <th>0</th>\n      <td>5524</td>\n      <td>1957</td>\n      <td>Graduation</td>\n      <td>Single</td>\n      <td>58138.0</td>\n      <td>0</td>\n      <td>0</td>\n      <td>04-09-2012</td>\n      <td>58</td>\n      <td>635</td>\n      <td>...</td>\n      <td>7</td>\n      <td>0</td>\n      <td>0</td>\n      <td>0</td>\n      <td>0</td>\n      <td>0</td>\n      <td>0</td>\n      <td>3</td>\n      <td>11</td>\n      <td>1</td>\n    </tr>\n    <tr>\n      <th>1</th>\n      <td>2174</td>\n      <td>1954</td>\n      <td>Graduation</td>\n      <td>Single</td>\n      <td>46344.0</td>\n      <td>1</td>\n      <td>1</td>\n      <td>08-03-2014</td>\n      <td>38</td>\n      <td>11</td>\n      <td>...</td>\n      <td>5</td>\n      <td>0</td>\n      <td>0</td>\n      <td>0</td>\n      <td>0</td>\n      <td>0</td>\n      <td>0</td>\n      <td>3</td>\n      <td>11</td>\n      <td>0</td>\n    </tr>\n    <tr>\n      <th>2</th>\n      <td>4141</td>\n      <td>1965</td>\n      <td>Graduation</td>\n      <td>Together</td>\n      <td>71613.0</td>\n      <td>0</td>\n      <td>0</td>\n      <td>21-08-2013</td>\n      <td>26</td>\n      <td>426</td>\n      <td>...</td>\n      <td>4</td>\n      <td>0</td>\n      <td>0</td>\n      <td>0</td>\n      <td>0</td>\n      <td>0</td>\n      <td>0</td>\n      <td>3</td>\n      <td>11</td>\n      <td>0</td>\n    </tr>\n    <tr>\n      <th>3</th>\n      <td>6182</td>\n      <td>1984</td>\n      <td>Graduation</td>\n      <td>Together</td>\n      <td>26646.0</td>\n      <td>1</td>\n      <td>0</td>\n      <td>10-02-2014</td>\n      <td>26</td>\n      <td>11</td>\n      <td>...</td>\n      <td>6</td>\n      <td>0</td>\n      <td>0</td>\n      <td>0</td>\n      <td>0</td>\n      <td>0</td>\n      <td>0</td>\n      <td>3</td>\n      <td>11</td>\n      <td>0</td>\n    </tr>\n    <tr>\n      <th>4</th>\n      <td>5324</td>\n      <td>1981</td>\n      <td>PhD</td>\n      <td>Married</td>\n      <td>58293.0</td>\n      <td>1</td>\n      <td>0</td>\n      <td>19-01-2014</td>\n      <td>94</td>\n      <td>173</td>\n      <td>...</td>\n      <td>5</td>\n      <td>0</td>\n      <td>0</td>\n      <td>0</td>\n      <td>0</td>\n      <td>0</td>\n      <td>0</td>\n      <td>3</td>\n      <td>11</td>\n      <td>0</td>\n    </tr>\n  </tbody>\n</table>\n<p>5 rows × 29 columns</p>\n</div>"
     },
     "execution_count": 46,
     "metadata": {},
     "output_type": "execute_result"
    }
   ],
   "source": [
    "data = pd.read_csv(\"../data/marketing_campaign.csv\", sep=\"\\t\")\n",
    "print(\"Number of datapoints:\", len(data))\n",
    "data.head()"
   ],
   "metadata": {
    "collapsed": false,
    "pycharm": {
     "name": "#%%\n"
    }
   }
  },
  {
   "cell_type": "markdown",
   "source": [
    "## Предварительная обработка данных"
   ],
   "metadata": {
    "collapsed": false,
    "pycharm": {
     "name": "#%% md\n"
    }
   }
  },
  {
   "cell_type": "code",
   "execution_count": 47,
   "outputs": [
    {
     "name": "stdout",
     "output_type": "stream",
     "text": [
      "<class 'pandas.core.frame.DataFrame'>\n",
      "RangeIndex: 2240 entries, 0 to 2239\n",
      "Data columns (total 29 columns):\n",
      " #   Column               Non-Null Count  Dtype  \n",
      "---  ------               --------------  -----  \n",
      " 0   ID                   2240 non-null   int64  \n",
      " 1   Year_Birth           2240 non-null   int64  \n",
      " 2   Education            2240 non-null   object \n",
      " 3   Marital_Status       2240 non-null   object \n",
      " 4   Income               2216 non-null   float64\n",
      " 5   Kidhome              2240 non-null   int64  \n",
      " 6   Teenhome             2240 non-null   int64  \n",
      " 7   Dt_Customer          2240 non-null   object \n",
      " 8   Recency              2240 non-null   int64  \n",
      " 9   MntWines             2240 non-null   int64  \n",
      " 10  MntFruits            2240 non-null   int64  \n",
      " 11  MntMeatProducts      2240 non-null   int64  \n",
      " 12  MntFishProducts      2240 non-null   int64  \n",
      " 13  MntSweetProducts     2240 non-null   int64  \n",
      " 14  MntGoldProds         2240 non-null   int64  \n",
      " 15  NumDealsPurchases    2240 non-null   int64  \n",
      " 16  NumWebPurchases      2240 non-null   int64  \n",
      " 17  NumCatalogPurchases  2240 non-null   int64  \n",
      " 18  NumStorePurchases    2240 non-null   int64  \n",
      " 19  NumWebVisitsMonth    2240 non-null   int64  \n",
      " 20  AcceptedCmp3         2240 non-null   int64  \n",
      " 21  AcceptedCmp4         2240 non-null   int64  \n",
      " 22  AcceptedCmp5         2240 non-null   int64  \n",
      " 23  AcceptedCmp1         2240 non-null   int64  \n",
      " 24  AcceptedCmp2         2240 non-null   int64  \n",
      " 25  Complain             2240 non-null   int64  \n",
      " 26  Z_CostContact        2240 non-null   int64  \n",
      " 27  Z_Revenue            2240 non-null   int64  \n",
      " 28  Response             2240 non-null   int64  \n",
      "dtypes: float64(1), int64(25), object(3)\n",
      "memory usage: 507.6+ KB\n"
     ]
    }
   ],
   "source": [
    "data.info()"
   ],
   "metadata": {
    "collapsed": false,
    "pycharm": {
     "name": "#%%\n"
    }
   }
  },
  {
   "cell_type": "markdown",
   "source": [
    "Удалим ID и строки, в которых не указан income"
   ],
   "metadata": {
    "collapsed": false,
    "pycharm": {
     "name": "#%% md\n"
    }
   }
  },
  {
   "cell_type": "code",
   "execution_count": 48,
   "outputs": [
    {
     "name": "stdout",
     "output_type": "stream",
     "text": [
      "<class 'pandas.core.frame.DataFrame'>\n",
      "Int64Index: 2216 entries, 0 to 2239\n",
      "Data columns (total 27 columns):\n",
      " #   Column               Non-Null Count  Dtype  \n",
      "---  ------               --------------  -----  \n",
      " 0   Year_Birth           2216 non-null   int64  \n",
      " 1   Education            2216 non-null   object \n",
      " 2   Marital_Status       2216 non-null   object \n",
      " 3   Income               2216 non-null   float64\n",
      " 4   Kidhome              2216 non-null   int64  \n",
      " 5   Teenhome             2216 non-null   int64  \n",
      " 6   Recency              2216 non-null   int64  \n",
      " 7   MntWines             2216 non-null   int64  \n",
      " 8   MntFruits            2216 non-null   int64  \n",
      " 9   MntMeatProducts      2216 non-null   int64  \n",
      " 10  MntFishProducts      2216 non-null   int64  \n",
      " 11  MntSweetProducts     2216 non-null   int64  \n",
      " 12  MntGoldProds         2216 non-null   int64  \n",
      " 13  NumDealsPurchases    2216 non-null   int64  \n",
      " 14  NumWebPurchases      2216 non-null   int64  \n",
      " 15  NumCatalogPurchases  2216 non-null   int64  \n",
      " 16  NumStorePurchases    2216 non-null   int64  \n",
      " 17  NumWebVisitsMonth    2216 non-null   int64  \n",
      " 18  AcceptedCmp3         2216 non-null   int64  \n",
      " 19  AcceptedCmp4         2216 non-null   int64  \n",
      " 20  AcceptedCmp5         2216 non-null   int64  \n",
      " 21  AcceptedCmp1         2216 non-null   int64  \n",
      " 22  AcceptedCmp2         2216 non-null   int64  \n",
      " 23  Complain             2216 non-null   int64  \n",
      " 24  Z_CostContact        2216 non-null   int64  \n",
      " 25  Z_Revenue            2216 non-null   int64  \n",
      " 26  Response             2216 non-null   int64  \n",
      "dtypes: float64(1), int64(24), object(2)\n",
      "memory usage: 484.8+ KB\n"
     ]
    }
   ],
   "source": [
    "data.dropna(inplace=True)\n",
    "data.drop(\"ID\", axis=1, inplace=True)\n",
    "data.drop(\"Dt_Customer\", axis=1, inplace=True)\n",
    "data.info()"
   ],
   "metadata": {
    "collapsed": false,
    "pycharm": {
     "name": "#%%\n"
    }
   }
  },
  {
   "cell_type": "markdown",
   "source": [
    "Разделим признаки на категориальные и числовые"
   ],
   "metadata": {
    "collapsed": false,
    "pycharm": {
     "name": "#%% md\n"
    }
   }
  },
  {
   "cell_type": "code",
   "execution_count": 49,
   "outputs": [
    {
     "name": "stdout",
     "output_type": "stream",
     "text": [
      "Numeric features: ['Year_Birth', 'Income', 'Recency', 'MntWines', 'MntFruits', 'MntMeatProducts', 'MntFishProducts', 'MntSweetProducts', 'MntGoldProds', 'NumDealsPurchases', 'NumWebPurchases', 'NumCatalogPurchases', 'NumStorePurchases', 'NumWebVisitsMonth']\n",
      "Categorical features: ['Education', 'Marital_Status', 'Kidhome', 'Teenhome', 'AcceptedCmp3', 'AcceptedCmp4', 'AcceptedCmp5', 'AcceptedCmp1', 'AcceptedCmp2', 'Complain', 'Z_CostContact', 'Z_Revenue', 'Response']\n"
     ]
    }
   ],
   "source": [
    "numeric = []\n",
    "categorical = []\n",
    "for name in data.columns:\n",
    "    if data[name].dtype != \"object\" and data[name].nunique() > 5:\n",
    "        numeric.append(name)\n",
    "    else:\n",
    "        categorical.append(name)\n",
    "columns = numeric + categorical\n",
    "print(\"Numeric features:\", numeric)\n",
    "print(\"Categorical features:\", categorical)"
   ],
   "metadata": {
    "collapsed": false,
    "pycharm": {
     "name": "#%%\n"
    }
   }
  },
  {
   "cell_type": "markdown",
   "source": [
    "Нормализуем числовые признаки"
   ],
   "metadata": {
    "collapsed": false,
    "pycharm": {
     "name": "#%% md\n"
    }
   }
  },
  {
   "cell_type": "code",
   "execution_count": 50,
   "outputs": [
    {
     "data": {
      "text/plain": "        Year_Birth       Income      Recency     MntWines    MntFruits  \\\ncount  2216.000000  2216.000000  2216.000000  2216.000000  2216.000000   \nmean      0.736120     0.075973     0.495077     0.204348     0.132442   \nstd       0.116365     0.037858     0.292408     0.225940     0.199969   \nmin       0.000000     0.000000     0.000000     0.000000     0.000000   \n25%       0.640777     0.050491     0.242424     0.016075     0.010050   \n50%       0.747573     0.074671     0.494949     0.116879     0.040201   \n75%       0.815534     0.100449     0.747475     0.338245     0.165829   \nmax       1.000000     1.000000     1.000000     1.000000     1.000000   \n\n       MntMeatProducts  MntFishProducts  MntSweetProducts  MntGoldProds  \\\ncount      2216.000000      2216.000000       2216.000000   2216.000000   \nmean          0.096809         0.145319          0.103164      0.136963   \nstd           0.130019         0.211398          0.156764      0.161419   \nmin           0.000000         0.000000          0.000000      0.000000   \n25%           0.009275         0.011583          0.003817      0.028037   \n50%           0.039420         0.046332          0.030534      0.076324   \n75%           0.134638         0.193050          0.125954      0.174455   \nmax           1.000000         1.000000          1.000000      1.000000   \n\n       NumDealsPurchases  NumWebPurchases  NumCatalogPurchases  \\\ncount        2216.000000      2216.000000          2216.000000   \nmean            0.154904         0.151307             0.095394   \nstd             0.128248         0.101517             0.104526   \nmin             0.000000         0.000000             0.000000   \n25%             0.066667         0.074074             0.000000   \n50%             0.133333         0.148148             0.071429   \n75%             0.200000         0.222222             0.142857   \nmax             1.000000         1.000000             1.000000   \n\n       NumStorePurchases  NumWebVisitsMonth  \ncount        2216.000000        2216.000000  \nmean            0.446230           0.265952  \nstd             0.250060           0.121268  \nmin             0.000000           0.000000  \n25%             0.230769           0.150000  \n50%             0.384615           0.300000  \n75%             0.615385           0.350000  \nmax             1.000000           1.000000  ",
      "text/html": "<div>\n<style scoped>\n    .dataframe tbody tr th:only-of-type {\n        vertical-align: middle;\n    }\n\n    .dataframe tbody tr th {\n        vertical-align: top;\n    }\n\n    .dataframe thead th {\n        text-align: right;\n    }\n</style>\n<table border=\"1\" class=\"dataframe\">\n  <thead>\n    <tr style=\"text-align: right;\">\n      <th></th>\n      <th>Year_Birth</th>\n      <th>Income</th>\n      <th>Recency</th>\n      <th>MntWines</th>\n      <th>MntFruits</th>\n      <th>MntMeatProducts</th>\n      <th>MntFishProducts</th>\n      <th>MntSweetProducts</th>\n      <th>MntGoldProds</th>\n      <th>NumDealsPurchases</th>\n      <th>NumWebPurchases</th>\n      <th>NumCatalogPurchases</th>\n      <th>NumStorePurchases</th>\n      <th>NumWebVisitsMonth</th>\n    </tr>\n  </thead>\n  <tbody>\n    <tr>\n      <th>count</th>\n      <td>2216.000000</td>\n      <td>2216.000000</td>\n      <td>2216.000000</td>\n      <td>2216.000000</td>\n      <td>2216.000000</td>\n      <td>2216.000000</td>\n      <td>2216.000000</td>\n      <td>2216.000000</td>\n      <td>2216.000000</td>\n      <td>2216.000000</td>\n      <td>2216.000000</td>\n      <td>2216.000000</td>\n      <td>2216.000000</td>\n      <td>2216.000000</td>\n    </tr>\n    <tr>\n      <th>mean</th>\n      <td>0.736120</td>\n      <td>0.075973</td>\n      <td>0.495077</td>\n      <td>0.204348</td>\n      <td>0.132442</td>\n      <td>0.096809</td>\n      <td>0.145319</td>\n      <td>0.103164</td>\n      <td>0.136963</td>\n      <td>0.154904</td>\n      <td>0.151307</td>\n      <td>0.095394</td>\n      <td>0.446230</td>\n      <td>0.265952</td>\n    </tr>\n    <tr>\n      <th>std</th>\n      <td>0.116365</td>\n      <td>0.037858</td>\n      <td>0.292408</td>\n      <td>0.225940</td>\n      <td>0.199969</td>\n      <td>0.130019</td>\n      <td>0.211398</td>\n      <td>0.156764</td>\n      <td>0.161419</td>\n      <td>0.128248</td>\n      <td>0.101517</td>\n      <td>0.104526</td>\n      <td>0.250060</td>\n      <td>0.121268</td>\n    </tr>\n    <tr>\n      <th>min</th>\n      <td>0.000000</td>\n      <td>0.000000</td>\n      <td>0.000000</td>\n      <td>0.000000</td>\n      <td>0.000000</td>\n      <td>0.000000</td>\n      <td>0.000000</td>\n      <td>0.000000</td>\n      <td>0.000000</td>\n      <td>0.000000</td>\n      <td>0.000000</td>\n      <td>0.000000</td>\n      <td>0.000000</td>\n      <td>0.000000</td>\n    </tr>\n    <tr>\n      <th>25%</th>\n      <td>0.640777</td>\n      <td>0.050491</td>\n      <td>0.242424</td>\n      <td>0.016075</td>\n      <td>0.010050</td>\n      <td>0.009275</td>\n      <td>0.011583</td>\n      <td>0.003817</td>\n      <td>0.028037</td>\n      <td>0.066667</td>\n      <td>0.074074</td>\n      <td>0.000000</td>\n      <td>0.230769</td>\n      <td>0.150000</td>\n    </tr>\n    <tr>\n      <th>50%</th>\n      <td>0.747573</td>\n      <td>0.074671</td>\n      <td>0.494949</td>\n      <td>0.116879</td>\n      <td>0.040201</td>\n      <td>0.039420</td>\n      <td>0.046332</td>\n      <td>0.030534</td>\n      <td>0.076324</td>\n      <td>0.133333</td>\n      <td>0.148148</td>\n      <td>0.071429</td>\n      <td>0.384615</td>\n      <td>0.300000</td>\n    </tr>\n    <tr>\n      <th>75%</th>\n      <td>0.815534</td>\n      <td>0.100449</td>\n      <td>0.747475</td>\n      <td>0.338245</td>\n      <td>0.165829</td>\n      <td>0.134638</td>\n      <td>0.193050</td>\n      <td>0.125954</td>\n      <td>0.174455</td>\n      <td>0.200000</td>\n      <td>0.222222</td>\n      <td>0.142857</td>\n      <td>0.615385</td>\n      <td>0.350000</td>\n    </tr>\n    <tr>\n      <th>max</th>\n      <td>1.000000</td>\n      <td>1.000000</td>\n      <td>1.000000</td>\n      <td>1.000000</td>\n      <td>1.000000</td>\n      <td>1.000000</td>\n      <td>1.000000</td>\n      <td>1.000000</td>\n      <td>1.000000</td>\n      <td>1.000000</td>\n      <td>1.000000</td>\n      <td>1.000000</td>\n      <td>1.000000</td>\n      <td>1.000000</td>\n    </tr>\n  </tbody>\n</table>\n</div>"
     },
     "execution_count": 50,
     "metadata": {},
     "output_type": "execute_result"
    }
   ],
   "source": [
    "data[numeric] = MinMaxScaler().fit_transform(data[numeric])\n",
    "data[numeric].describe()"
   ],
   "metadata": {
    "collapsed": false,
    "pycharm": {
     "name": "#%%\n"
    }
   }
  },
  {
   "cell_type": "markdown",
   "source": [
    "Кодируем категориальные признаки"
   ],
   "metadata": {
    "collapsed": false,
    "pycharm": {
     "name": "#%% md\n"
    }
   }
  },
  {
   "cell_type": "code",
   "execution_count": 51,
   "outputs": [],
   "source": [
    "le = LabelEncoder()\n",
    "for column in categorical:\n",
    "    data[column] = le.fit_transform(data[column])\n",
    "    data[column] = le.fit_transform(data[column])\n",
    "    data[column] = data[column].astype(\"category\")\n",
    "    data[column] = data[column].astype(\"category\")"
   ],
   "metadata": {
    "collapsed": false,
    "pycharm": {
     "name": "#%%\n"
    }
   }
  },
  {
   "cell_type": "markdown",
   "source": [
    "## Кластеризация исходных данных"
   ],
   "metadata": {
    "collapsed": false,
    "pycharm": {
     "name": "#%% md\n"
    }
   }
  },
  {
   "cell_type": "code",
   "execution_count": null,
   "outputs": [],
   "source": [],
   "metadata": {
    "collapsed": false,
    "pycharm": {
     "name": "#%%\n"
    }
   }
  }
 ],
 "metadata": {
  "kernelspec": {
   "display_name": "Python 3",
   "language": "python",
   "name": "python3"
  },
  "language_info": {
   "codemirror_mode": {
    "name": "ipython",
    "version": 2
   },
   "file_extension": ".py",
   "mimetype": "text/x-python",
   "name": "python",
   "nbconvert_exporter": "python",
   "pygments_lexer": "ipython2",
   "version": "2.7.6"
  }
 },
 "nbformat": 4,
 "nbformat_minor": 0
}